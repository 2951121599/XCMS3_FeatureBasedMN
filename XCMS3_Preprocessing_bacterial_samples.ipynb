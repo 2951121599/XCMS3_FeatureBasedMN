{
 "cells": [
  {
   "cell_type": "markdown",
   "metadata": {},
   "source": [
    "## Preprocess your data using XCMS3 and export data files for feature-based molecular networking through GNPS\n",
    "\n",
    "To follow this example tutorial, download the folder named <tt>'peak/AMG_Plant_subset'</tt> from: <br>\n",
    "https://gnps.ucsd.edu/ProteoSAFe/result.jsp?task=d74ca92d9dec4e2883f28506c670e3ca&view=advanced_view\n",
    "\n",
    "load libraries and GNPS export source function\n",
    "\n"
   ]
  },
  {
   "cell_type": "code",
   "execution_count": null,
   "metadata": {
    "autoscroll": false,
    "collapsed": true
   },
   "outputs": [],
   "source": [
    "source('customFunctions.R')\n",
    "library(RColorBrewer)\n",
    "library(xcms)"
   ]
  },
  {
   "cell_type": "markdown",
   "metadata": {},
   "source": [
    "\n",
    "Use socket based parallel processing on Windows systems\n",
    "\n"
   ]
  },
  {
   "cell_type": "code",
   "execution_count": null,
   "metadata": {
    "autoscroll": false,
    "collapsed": true
   },
   "outputs": [],
   "source": [
    "if (.Platform$OS.type == \"unix\") {\n",
    "  register(bpstart(MulticoreParam(4)))\n",
    "} else {\n",
    "  register(bpstart(SnowParam(4)))\n",
    "}"
   ]
  },
  {
   "cell_type": "markdown",
   "metadata": {},
   "source": [
    "\n",
    "### Load data\n",
    "\n",
    "load all .mzXML files and define sample grouping\n",
    "\n"
   ]
  },
  {
   "cell_type": "code",
   "execution_count": null,
   "metadata": {
    "autoscroll": false,
    "collapsed": true
   },
   "outputs": [],
   "source": [
    "mzXMLfiles <- paste0('MSV000079204/',list.files(path = 'MSV000079204/', pattern = \".mzXML$\", recursive = TRUE))\n",
    "s_groups <- rep(dir('MSV000079204/'), each=2)\n",
    "pheno <- data.frame(sample_name = basename(mzXMLfiles),\n",
    "                    sample_group = s_groups, stringsAsFactors = FALSE)"
   ]
  },
  {
   "cell_type": "code",
   "execution_count": null,
   "metadata": {
    "autoscroll": false,
    "collapsed": true
   },
   "outputs": [],
   "source": [
    "head(pheno)"
   ]
  },
  {
   "cell_type": "markdown",
   "metadata": {},
   "source": [
    "\n",
    "read all raw data, including MS2 level\n",
    "\n"
   ]
  },
  {
   "cell_type": "code",
   "execution_count": null,
   "metadata": {
    "autoscroll": false,
    "collapsed": true
   },
   "outputs": [],
   "source": [
    "rawData <- readMSData(mzXMLfiles, centroided. = TRUE, pdata = new(\"NAnnotatedDataFrame\", pheno), mode = \"onDisk\")"
   ]
  },
  {
   "cell_type": "markdown",
   "metadata": {},
   "source": [
    "\n",
    "create a base peak chromatogram (BPC) of your data for visual inspection\n",
    "\n"
   ]
  },
  {
   "cell_type": "code",
   "execution_count": null,
   "metadata": {
    "autoscroll": false,
    "collapsed": true
   },
   "outputs": [],
   "source": [
    "group_colors <- paste0(brewer.pal(3, \"Set1\")[1:2], \"60\")\n",
    "names(group_colors) <- unique(pheno$sample_group)\n",
    "bpis <- chromatogram(rawData, aggregationFun = \"max\")\n",
    "plot(bpis, col = group_colors[rawData$sample_group])"
   ]
  },
  {
   "cell_type": "markdown",
   "metadata": {},
   "source": [
    "\n",
    "### Peak picking\n",
    "\n",
    "define settings for the centWave peak detection.\n",
    "\n"
   ]
  },
  {
   "cell_type": "code",
   "execution_count": null,
   "metadata": {
    "autoscroll": false,
    "collapsed": true
   },
   "outputs": [],
   "source": [
    "cwp <- CentWaveParam(snthresh = 3, noise = 5000, peakwidth = c(5,30), ppm = 10)"
   ]
  },
  {
   "cell_type": "markdown",
   "metadata": {},
   "source": [
    "\n",
    "perform peak picking\n",
    "\n"
   ]
  },
  {
   "cell_type": "code",
   "execution_count": null,
   "metadata": {
    "autoscroll": false,
    "collapsed": true
   },
   "outputs": [],
   "source": [
    "processedData <- findChromPeaks(rawData, param = cwp)"
   ]
  },
  {
   "cell_type": "markdown",
   "metadata": {},
   "source": [
    "\n",
    "get an overview of the detected peaks, using a heatmap\n",
    "\n"
   ]
  },
  {
   "cell_type": "code",
   "execution_count": null,
   "metadata": {
    "autoscroll": false,
    "collapsed": true
   },
   "outputs": [],
   "source": [
    "plotChromPeakImage(processedData, binSize = 10)"
   ]
  },
  {
   "cell_type": "markdown",
   "metadata": {},
   "source": [
    "\n",
    "Plot selected chromatogram:\n"
   ]
  },
  {
   "cell_type": "code",
   "execution_count": null,
   "metadata": {
    "autoscroll": false,
    "collapsed": true
   },
   "outputs": [],
   "source": [
    "## Define the rt and m/z range of the peak area\n",
    "rtr <- c(2000, 3000)\n",
    "mzr <- c(0, 1000)\n",
    "## extract the chromatogram\n",
    "chr_raw <- chromatogram(rawData, mz = mzr, rt = rtr, aggregationFun='max')\n",
    "plot(chr_raw, col = group_colors[chr_raw$sample_group], lwd = 2)"
   ]
  },
  {
   "cell_type": "markdown",
   "metadata": {},
   "source": [
    "\n",
    "\n",
    "\n",
    "### Retention time alignment\n",
    "\n",
    "do a obiwarp alignment using the default settings\n",
    "\n"
   ]
  },
  {
   "cell_type": "code",
   "execution_count": null,
   "metadata": {
    "autoscroll": false,
    "collapsed": true
   },
   "outputs": [],
   "source": [
    "processedData <- adjustRtime(processedData, param = ObiwarpParam())"
   ]
  },
  {
   "cell_type": "markdown",
   "metadata": {},
   "source": [
    "\n",
    "plot the difference of adjusted to raw retention time\n",
    "\n"
   ]
  },
  {
   "cell_type": "code",
   "execution_count": null,
   "metadata": {
    "autoscroll": false,
    "collapsed": true
   },
   "outputs": [],
   "source": [
    "plotAdjustedRtime(processedData)"
   ]
  },
  {
   "cell_type": "markdown",
   "metadata": {},
   "source": [
    "\n",
    "### Peak grouping\n",
    "\n",
    "define the PeakDensityParam\n",
    "\n"
   ]
  },
  {
   "cell_type": "code",
   "execution_count": null,
   "metadata": {
    "autoscroll": false,
    "collapsed": true
   },
   "outputs": [],
   "source": [
    "pdp <- PeakDensityParam(sampleGroups = processedData$sample_group, minFraction = 0.10)\n",
    "processedData <- groupChromPeaks(processedData, param = pdp)"
   ]
  },
  {
   "cell_type": "markdown",
   "metadata": {},
   "source": [
    "\n",
    "### Gap filling\n",
    "\n",
    "fill in missing peaks\n",
    "\n"
   ]
  },
  {
   "cell_type": "code",
   "execution_count": null,
   "metadata": {
    "autoscroll": false,
    "collapsed": true
   },
   "outputs": [],
   "source": [
    "processed_Data <- fillChromPeaks(processedData)"
   ]
  },
  {
   "cell_type": "markdown",
   "metadata": {},
   "source": [
    "\n",
    "### Export data\n",
    "\n",
    "#### export MS1 and MS2 features\n",
    "\n",
    "export .mgf file <br>\n",
    "all features, independent of whether they contain MS2 data or MS1 only will be saved to <tt>'ms2spectra_all.mgf'</tt>. This file can for example be used to do <i>in silico</i> structure prediction through [SIRIUS+CSI:FingerID](https://bio.informatik.uni-jena.de/software/sirius/):\n",
    "\n"
   ]
  },
  {
   "cell_type": "code",
   "execution_count": null,
   "metadata": {
    "autoscroll": false,
    "collapsed": true
   },
   "outputs": [],
   "source": [
    "## export the individual spectra into a .mgf file\n",
    "filteredMs2Spectra <- featureSpectra(processedData, return.type = \"Spectra\")\n",
    "filteredMs2Spectra@listData <- lapply(filteredMs2Spectra, clean, all = TRUE)\n",
    "filteredMs2Spectra <- formatSpectraForGNPS(filteredMs2Spectra)"
   ]
  },
  {
   "cell_type": "code",
   "execution_count": null,
   "metadata": {
    "autoscroll": false,
    "collapsed": true
   },
   "outputs": [],
   "source": [
    "writeMgfData(filteredMs2Spectra, \"ms2spectra_all.mgf\")"
   ]
  },
  {
   "cell_type": "markdown",
   "metadata": {},
   "source": [
    "\n",
    "export peak area quantification table <br>\n",
    "a peak area quantification table contains features and respective per sample peak areas in columns. The file is saved to <tt>'xcms_all.txt'</tt>.\n",
    "\n"
   ]
  },
  {
   "cell_type": "code",
   "execution_count": null,
   "metadata": {
    "autoscroll": false,
    "collapsed": true
   },
   "outputs": [],
   "source": [
    "## get data\n",
    "featuresDef <- featureDefinitions(processedData)\n",
    "featuresIntensities <- featureValues(processedData, value = \"into\")\n",
    "\n",
    "## generate data table\n",
    "dataTable <- merge(featuresDef, featuresIntensities, by=0, all=TRUE)\n",
    "dataTable <- dataTable[,!(names(dataTable) %in% c(\"peakidx\"))]"
   ]
  },
  {
   "cell_type": "code",
   "execution_count": null,
   "metadata": {
    "autoscroll": false,
    "collapsed": true
   },
   "outputs": [],
   "source": [
    "head(dataTable)"
   ]
  },
  {
   "cell_type": "code",
   "execution_count": null,
   "metadata": {
    "autoscroll": false,
    "collapsed": true
   },
   "outputs": [],
   "source": [
    "write.table(dataTable, \"xcms_all.txt\", sep = \"\\t\", quote = FALSE, row.names = FALSE)"
   ]
  },
  {
   "cell_type": "markdown",
   "metadata": {},
   "source": [
    "\n",
    "#### export MS2 features only\n",
    "\n",
    "export .mgf file <br>\n",
    "This file can be submitted to GNPS [feature-based molecular networking](https://ccms-ucsd.github.io/GNPSDocumentation/featurebasedmolecularnetworking/):\n",
    "\n"
   ]
  },
  {
   "cell_type": "code",
   "execution_count": null,
   "metadata": {
    "autoscroll": false,
    "collapsed": true
   },
   "outputs": [],
   "source": [
    "## Select for each feature the Spectrum2 with the largest TIC.\n",
    "filteredMs2spectra_maxTic <- endoapply(split(filteredMs2Spectra, mcols(filteredMs2Spectra)$feature_id), function(z) z[which.max(lapply(intensity(z), sum))])\n",
    "filteredMs2spectra_maxTic <- unlist(filteredMs2spectra_maxTic)"
   ]
  },
  {
   "cell_type": "code",
   "execution_count": null,
   "metadata": {
    "autoscroll": false,
    "collapsed": true
   },
   "outputs": [],
   "source": [
    "writeMgfData(filteredMs2spectra_maxTic, \"ms2spectra_maxTic.mgf\")"
   ]
  },
  {
   "cell_type": "markdown",
   "metadata": {},
   "source": [
    "\n",
    "export peak area quantification table <br>\n",
    "the peak area quantification table contains features and respective per sample peak areas in columns. The file is saved to <tt>'xcms_onlyMS2.txt'</tt>. This file can be submitted to GNPS [feature-based molecular networking](https://ccms-ucsd.github.io/GNPSDocumentation/featurebasedmolecularnetworking/):\n",
    "\n"
   ]
  },
  {
   "cell_type": "code",
   "execution_count": null,
   "metadata": {
    "autoscroll": false,
    "collapsed": true
   },
   "outputs": [],
   "source": [
    "## filter data table to contain only peaks with MSMS DF[ , !(names(DF) %in% drops)]\n",
    "filteredDataTable <- dataTable[which(dataTable$Row.names %in% filteredMs2Spectra@elementMetadata$feature_id),]"
   ]
  },
  {
   "cell_type": "code",
   "execution_count": null,
   "metadata": {
    "autoscroll": false,
    "collapsed": true
   },
   "outputs": [],
   "source": [
    "head(filteredDataTable)"
   ]
  },
  {
   "cell_type": "code",
   "execution_count": null,
   "metadata": {
    "autoscroll": false,
    "collapsed": true
   },
   "outputs": [],
   "source": [
    "write.table(filteredDataTable, \"xcms_onlyMS2.txt\", sep = \"\\t\", quote = FALSE, row.names = FALSE)"
   ]
  }
 ],
 "metadata": {
  "kernelspec": {
   "display_name": "R",
   "language": "R",
   "name": "ir"
  },
  "language_info": {
   "codemirror_mode": "r",
   "file_extension": ".r",
   "mimetype": "text/x-r-source",
   "name": "R",
   "pygments_lexer": "r"
  }
 },
 "nbformat": 4,
 "nbformat_minor": 0
}
